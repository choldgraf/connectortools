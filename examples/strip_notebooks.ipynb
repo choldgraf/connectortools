{
 "cells": [
  {
   "cell_type": "code",
   "execution_count": 1,
   "metadata": {
    "collapsed": false
   },
   "outputs": [],
   "source": [
    "import connectortools as ct"
   ]
  },
  {
   "cell_type": "markdown",
   "metadata": {},
   "source": [
    "# Create student notebooks\n",
    "Here we'll create a notebook we might use for a homework. In `test_notebook`, we've asked the students to answer a question. Using the `strip_notebooks` function, we can designate certain cells as \"student answer\" cells. That way we can clear the answers for those cells and generate a version of the notebook suitable for sending to students:"
   ]
  },
  {
   "cell_type": "code",
   "execution_count": 2,
   "metadata": {
    "collapsed": false
   },
   "outputs": [
    {
     "name": "stdout",
     "output_type": "stream",
     "text": [
      "Saving to ./test_notebook_student.ipynb\n"
     ]
    }
   ],
   "source": [
    "# Here we'll create a notebook we might use for a homework\n",
    "# In `test_notebook`, we've asked the students to answer a question.\n",
    "# However, they \n",
    "_ = ct.strip_answers('./test_notebook.ipynb', '### STUDENT ANSWER', 'student')"
   ]
  },
  {
   "cell_type": "markdown",
   "metadata": {},
   "source": [
    "# Create lecturer notebook w/ info removed\n",
    "Sometimes you want more flexibility in how the notebook cells are stripped. For example, maybe for some cells we want to remove the entire thing. This can be useful if we want to keep some cells as \"notes\" to the instructor, but we don't want those cells showing up when we're giving a live demonstration. You can easily accomplish this by playing around with the parameters of `strip_answers`:"
   ]
  },
  {
   "cell_type": "code",
   "execution_count": 3,
   "metadata": {
    "collapsed": false
   },
   "outputs": [
    {
     "name": "stdout",
     "output_type": "stream",
     "text": [
      "Saving to ./test_notebook_live.ipynb\n"
     ]
    }
   ],
   "source": [
    "_ = ct.strip_answers('./test_notebook.ipynb', '### TEACHER INFO',\n",
    "                     output_suffix='live', clean_outputs=False)"
   ]
  },
  {
   "cell_type": "markdown",
   "metadata": {},
   "source": [
    "# Create interact links\n",
    "Here's a quick section to create interact links, which you often do just after creating \"stripped\" versions of the notebooks (e.g. so that you can now distribute homeworks to students)."
   ]
  },
  {
   "cell_type": "code",
   "execution_count": 4,
   "metadata": {
    "collapsed": false
   },
   "outputs": [
    {
     "name": "stdout",
     "output_type": "stream",
     "text": [
      "Your interactive URL is:\n",
      "---\n",
      "https://data8.berkeley.edu/hub/interact?repo=cogneuro-connector&path=weekly_materials/Week05_FilteringAndTimeFrequency/lab_student.ipynb\n",
      "---\n"
     ]
    },
    {
     "data": {
      "text/plain": [
       "'https://data8.berkeley.edu/hub/interact?repo=cogneuro-connector&path=weekly_materials/Week05_FilteringAndTimeFrequency/lab_student.ipynb'"
      ]
     },
     "execution_count": 4,
     "metadata": {},
     "output_type": "execute_result"
    }
   ],
   "source": [
    "url = \"https://github.com/data-8/cogneuro-connector/blob/gh-pages/weekly_materials/Week05_FilteringAndTimeFrequency/lab_student.ipynb\"\n",
    "ct.url_to_interact(url)"
   ]
  },
  {
   "cell_type": "code",
   "execution_count": null,
   "metadata": {
    "collapsed": true
   },
   "outputs": [],
   "source": []
  }
 ],
 "metadata": {
  "hide_input": false,
  "kernelspec": {
   "display_name": "Python 2",
   "language": "python",
   "name": "python2"
  },
  "language_info": {
   "codemirror_mode": {
    "name": "ipython",
    "version": 2
   },
   "file_extension": ".py",
   "mimetype": "text/x-python",
   "name": "python",
   "nbconvert_exporter": "python",
   "pygments_lexer": "ipython2",
   "version": "2.7.11"
  }
 },
 "nbformat": 4,
 "nbformat_minor": 0
}
