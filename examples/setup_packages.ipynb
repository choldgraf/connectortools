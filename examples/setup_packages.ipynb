{
 "cells": [
  {
   "cell_type": "code",
   "execution_count": 1,
   "metadata": {
    "collapsed": true
   },
   "outputs": [],
   "source": [
    "import connectortools as ct"
   ]
  },
  {
   "cell_type": "markdown",
   "metadata": {},
   "source": [
    "## Install / update a package with a jupyter notebook command\n",
    "Below is a quick and dirty way to run a shell command from the jupyter notebook. Just append the \"!\" symbol and it will run as if you ran it from a terminal. You can use this to install a package:"
   ]
  },
  {
   "cell_type": "code",
   "execution_count": 2,
   "metadata": {
    "collapsed": false
   },
   "outputs": [
    {
     "name": "stdout",
     "output_type": "stream",
     "text": [
      "Collecting git+https://github.com/choldgraf/connectortools.git\n",
      "  Cloning https://github.com/choldgraf/connectortools.git to /var/folders/yd/sqzplf_j06s5_bqtlyqrc2580000gn/T/pip-EyH7Ng-build\n",
      "Installing collected packages: connectortools\n",
      "  Running setup.py install for connectortools ... \u001b[?25l-\b \bdone\n",
      "\u001b[?25hSuccessfully installed connectortools-0.1\n"
     ]
    }
   ],
   "source": [
    "# Update to the latest neurods\n",
    "!pip install git+https://github.com/choldgraf/connectortools.git --user --upgrade"
   ]
  },
  {
   "cell_type": "markdown",
   "metadata": {},
   "source": [
    "# Install / update a package with connectortools\n",
    "However, it's easier for students to remember if you can simply use a function. The `install_package` function will accomplish the above in a simpler (and more memorable) way.\n",
    "\n",
    "You can pass a path to a raw git repo URL by using the `url` parameter:"
   ]
  },
  {
   "cell_type": "code",
   "execution_count": 3,
   "metadata": {
    "collapsed": false
   },
   "outputs": [
    {
     "name": "stdout",
     "output_type": "stream",
     "text": [
      "Installing with command: \n",
      "pip install git+https://github.com/choldgraf/connectortools.git --user --upgrade\n",
      "Finished installing. Don't forget to restart the kernel!\n"
     ]
    }
   ],
   "source": [
    "# With a raw URL\n",
    "ct.install_package(url='https://github.com/choldgraf/connectortools.git')"
   ]
  },
  {
   "cell_type": "markdown",
   "metadata": {},
   "source": [
    "Or you can just pass the name of a package by using the `name` parameter:"
   ]
  },
  {
   "cell_type": "code",
   "execution_count": 4,
   "metadata": {
    "collapsed": false
   },
   "outputs": [
    {
     "name": "stdout",
     "output_type": "stream",
     "text": [
      "Installing with command: \n",
      "pip install sklearn --user --upgrade\n",
      "Finished installing. Don't forget to restart the kernel!\n"
     ]
    }
   ],
   "source": [
    "# With a package name\n",
    "ct.install_package('sklearn')"
   ]
  },
  {
   "cell_type": "code",
   "execution_count": null,
   "metadata": {
    "collapsed": true
   },
   "outputs": [],
   "source": []
  }
 ],
 "metadata": {
  "hide_input": false,
  "kernelspec": {
   "display_name": "Python 2",
   "language": "python",
   "name": "python2"
  },
  "language_info": {
   "codemirror_mode": {
    "name": "ipython",
    "version": 2
   },
   "file_extension": ".py",
   "mimetype": "text/x-python",
   "name": "python",
   "nbconvert_exporter": "python",
   "pygments_lexer": "ipython2",
   "version": "2.7.11"
  }
 },
 "nbformat": 4,
 "nbformat_minor": 1
}
