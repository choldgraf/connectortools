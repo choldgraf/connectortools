{
 "cells": [
  {
   "cell_type": "code",
   "execution_count": 2,
   "metadata": {
    "collapsed": false
   },
   "outputs": [],
   "source": [
    "import connectortools as ct"
   ]
  },
  {
   "cell_type": "markdown",
   "metadata": {},
   "source": [
    "Interact links are really useful, but they can be annoying to create from scratch. This function saves you a couple of seconds by creating one for you. Just give it a github path to a file (that's on the data8 collection of repos) and it will create an interact link for you."
   ]
  },
  {
   "cell_type": "code",
   "execution_count": 3,
   "metadata": {
    "collapsed": false
   },
   "outputs": [
    {
     "name": "stdout",
     "output_type": "stream",
     "text": [
      "Your interactive URL is:\n",
      "---\n",
      "https://data8.berkeley.edu/hub/interact?repo=cogneuro-connector&path=weekly_materials/Week05_FilteringAndTimeFrequency/lab_student.ipynb\n",
      "---\n"
     ]
    },
    {
     "data": {
      "text/plain": [
       "'https://data8.berkeley.edu/hub/interact?repo=cogneuro-connector&path=weekly_materials/Week05_FilteringAndTimeFrequency/lab_student.ipynb'"
      ]
     },
     "execution_count": 3,
     "metadata": {},
     "output_type": "execute_result"
    }
   ],
   "source": [
    "url = \"https://github.com/data-8/cogneuro-connector/blob/gh-pages/weekly_materials/Week05_FilteringAndTimeFrequency/lab_student.ipynb\"\n",
    "ct.url_to_interact(url)"
   ]
  },
  {
   "cell_type": "code",
   "execution_count": null,
   "metadata": {
    "collapsed": true
   },
   "outputs": [],
   "source": []
  }
 ],
 "metadata": {
  "hide_input": false,
  "kernelspec": {
   "display_name": "Python 2",
   "language": "python",
   "name": "python2"
  },
  "language_info": {
   "codemirror_mode": {
    "name": "ipython",
    "version": 2
   },
   "file_extension": ".py",
   "mimetype": "text/x-python",
   "name": "python",
   "nbconvert_exporter": "python",
   "pygments_lexer": "ipython2",
   "version": "2.7.11"
  }
 },
 "nbformat": 4,
 "nbformat_minor": 0
}
